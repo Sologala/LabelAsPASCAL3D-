{
 "cells": [
  {
   "cell_type": "code",
   "execution_count": 150,
   "id": "e31f63d8-0d6a-48c7-980b-feae8d4929f6",
   "metadata": {},
   "outputs": [],
   "source": [
    "import matplotlib.pyplot as plt\n",
    "import numpy as np\n",
    "from scipy.io import loadmat\n",
    "from PIL import Image, ImageDraw\n",
    "import os\n",
    "from pprint import pprint"
   ]
  },
  {
   "cell_type": "code",
   "execution_count": 192,
   "id": "b54eca18-cde7-4227-93d4-5eadaccec025",
   "metadata": {},
   "outputs": [
    {
     "name": "stdout",
     "output_type": "stream",
     "text": [
      "total 4 objects\n"
     ]
    },
    {
     "ename": "ValueError",
     "evalue": "no field of name location",
     "output_type": "error",
     "traceback": [
      "\u001b[0;31m---------------------------------------------------------------------------\u001b[0m",
      "\u001b[0;31mValueError\u001b[0m                                Traceback (most recent call last)",
      "Cell \u001b[0;32mIn[192], line 63\u001b[0m, in \u001b[0;36mconvertRecords\u001b[0;34m(ann_mat_path)\u001b[0m\n\u001b[1;32m     62\u001b[0m \u001b[38;5;28;01mtry\u001b[39;00m:\n\u001b[0;32m---> 63\u001b[0m     anchors \u001b[38;5;241m=\u001b[39m \u001b[43mget\u001b[49m\u001b[43m(\u001b[49m\u001b[43mget\u001b[49m\u001b[43m(\u001b[49m\u001b[43mobj\u001b[49m\u001b[43m,\u001b[49m\u001b[43m \u001b[49m\u001b[38;5;124;43m\"\u001b[39;49m\u001b[38;5;124;43manchors\u001b[39;49m\u001b[38;5;124;43m\"\u001b[39;49m\u001b[43m)\u001b[49m\u001b[43m,\u001b[49m\u001b[43m \u001b[49m\u001b[38;5;124;43m\"\u001b[39;49m\u001b[38;5;124;43mlocation\u001b[39;49m\u001b[38;5;124;43m\"\u001b[39;49m\u001b[43m)\u001b[49m\n\u001b[1;32m     64\u001b[0m     \u001b[38;5;28mprint\u001b[39m(anchors)\n",
      "Cell \u001b[0;32mIn[192], line 12\u001b[0m, in \u001b[0;36mget\u001b[0;34m(obj, name)\u001b[0m\n\u001b[1;32m     11\u001b[0m \u001b[38;5;28;01mdef\u001b[39;00m \u001b[38;5;21mget\u001b[39m(obj, name):\n\u001b[0;32m---> 12\u001b[0m     \u001b[38;5;28;01mreturn\u001b[39;00m \u001b[43mobj\u001b[49m\u001b[43m[\u001b[49m\u001b[43mname\u001b[49m\u001b[43m]\u001b[49m[\u001b[38;5;241m0\u001b[39m][\u001b[38;5;241m0\u001b[39m]\n",
      "\u001b[0;31mValueError\u001b[0m: no field of name location",
      "\nDuring handling of the above exception, another exception occurred:\n",
      "\u001b[0;31mValueError\u001b[0m                                Traceback (most recent call last)",
      "Cell \u001b[0;32mIn[192], line 79\u001b[0m\n\u001b[1;32m     76\u001b[0m     \u001b[38;5;28;01mreturn\u001b[39;00m res\n\u001b[1;32m     78\u001b[0m \u001b[38;5;28;01mfor\u001b[39;00m record_element \u001b[38;5;129;01min\u001b[39;00m record_set:\n\u001b[0;32m---> 79\u001b[0m     ann \u001b[38;5;241m=\u001b[39m \u001b[43mconvertRecords\u001b[49m\u001b[43m(\u001b[49m\u001b[38;5;124;43mf\u001b[39;49m\u001b[38;5;124;43m'\u001b[39;49m\u001b[38;5;132;43;01m{\u001b[39;49;00m\u001b[43mannotation_path\u001b[49m\u001b[38;5;132;43;01m}\u001b[39;49;00m\u001b[38;5;132;43;01m{\u001b[39;49;00m\u001b[43mrecord_element\u001b[49m\u001b[38;5;132;43;01m}\u001b[39;49;00m\u001b[38;5;124;43m'\u001b[39;49m\u001b[43m)\u001b[49m\n\u001b[1;32m     80\u001b[0m     \u001b[38;5;28mprint\u001b[39m(ann)\n\u001b[1;32m     81\u001b[0m     \u001b[38;5;66;03m# pprint(filename)\u001b[39;00m\n\u001b[1;32m     82\u001b[0m     \u001b[38;5;66;03m# break\u001b[39;00m\n",
      "Cell \u001b[0;32mIn[192], line 72\u001b[0m, in \u001b[0;36mconvertRecords\u001b[0;34m(ann_mat_path)\u001b[0m\n\u001b[1;32m     70\u001b[0m         jobj[\u001b[38;5;124m'\u001b[39m\u001b[38;5;124mkps_status\u001b[39m\u001b[38;5;124m'\u001b[39m]\u001b[38;5;241m.\u001b[39mappend(pt_status)\n\u001b[1;32m     71\u001b[0m \u001b[38;5;28;01mexcept\u001b[39;00m:\n\u001b[0;32m---> 72\u001b[0m     anchors \u001b[38;5;241m=\u001b[39m \u001b[43mget\u001b[49m\u001b[43m(\u001b[49m\u001b[43mget\u001b[49m\u001b[43m(\u001b[49m\u001b[43mobj\u001b[49m\u001b[43m,\u001b[49m\u001b[43m \u001b[49m\u001b[38;5;124;43m\"\u001b[39;49m\u001b[38;5;124;43manchors\u001b[39;49m\u001b[38;5;124;43m\"\u001b[39;49m\u001b[43m)\u001b[49m\u001b[43m,\u001b[49m\u001b[43m \u001b[49m\u001b[38;5;124;43m\"\u001b[39;49m\u001b[38;5;124;43mlocation\u001b[39;49m\u001b[38;5;124;43m\"\u001b[39;49m\u001b[43m)\u001b[49m\n\u001b[1;32m     73\u001b[0m     \u001b[38;5;28mprint\u001b[39m(anchors)\n\u001b[1;32m     74\u001b[0m     \u001b[38;5;28;01mraise\u001b[39;00m \u001b[38;5;124m\"\u001b[39m\u001b[38;5;124m\"\u001b[39m\n",
      "Cell \u001b[0;32mIn[192], line 12\u001b[0m, in \u001b[0;36mget\u001b[0;34m(obj, name)\u001b[0m\n\u001b[1;32m     11\u001b[0m \u001b[38;5;28;01mdef\u001b[39;00m \u001b[38;5;21mget\u001b[39m(obj, name):\n\u001b[0;32m---> 12\u001b[0m     \u001b[38;5;28;01mreturn\u001b[39;00m \u001b[43mobj\u001b[49m\u001b[43m[\u001b[49m\u001b[43mname\u001b[49m\u001b[43m]\u001b[49m[\u001b[38;5;241m0\u001b[39m][\u001b[38;5;241m0\u001b[39m]\n",
      "\u001b[0;31mValueError\u001b[0m: no field of name location"
     ]
    }
   ],
   "source": [
    "cls = \"car\"\n",
    "annotation_path = f'./Annotations/{cls}_pascal/'\n",
    "image_path = f'./Images/{cls}_pascal/'\n",
    "# 加载 CAD 模型\n",
    "cad_path = f'./CAD/{cls}.mat'\n",
    "object = loadmat(cad_path)\n",
    "cad = object[cls]\n",
    "listing = os.listdir(annotation_path)\n",
    "record_set = [file for file in listing if file.endswith('.mat')]\n",
    "\n",
    "def get(obj, name):\n",
    "    return obj[name][0][0]\n",
    "def get1(obj, name):\n",
    "    return obj[name][0]\n",
    "def get2(obj, name):\n",
    "    return obj[name][0][0][0][0]\n",
    "    \n",
    "car_kps = [\n",
    "         'left_front_wheel',\n",
    "         'left_back_wheel',\n",
    "         'right_front_wheel',\n",
    "         'right_back_wheel',\n",
    "         'upper_left_windshield',\n",
    "         'upper_right_windshield',\n",
    "         'upper_left_rearwindow',\n",
    "         'upper_right_rearwindow',\n",
    "         'left_front_light',\n",
    "         'right_front_light',\n",
    "         'left_back_trunk',\n",
    "         'right_back_trunk'\n",
    "        ]\n",
    "\n",
    "def convertRecords(ann_mat_path):\n",
    "    record = loadmat(ann_mat_path)['record']\n",
    "    res = {\n",
    "        \"file_name\": get(record, \"filename\")[0],\n",
    "        \"width\": get2(get(record,\"size\"),\"width\"),\n",
    "        \"height\": get2(get(record,\"size\"),\"height\"),\n",
    "        \"objects\": []\n",
    "    }\n",
    "    # print(res)\n",
    "    # print(record[\"objects\"][0][0][0]['class'][0][0])\n",
    "    nobjects = len(get(record, \"objects\")[0])\n",
    "    print(f\"total {nobjects} objects\")\n",
    "    for i in range(nobjects):\n",
    "        \n",
    "        obj = get(record, \"objects\")[0][i]\n",
    "        cls = get1(obj, 'class')\n",
    "        # view = get1(obj, 'view')\n",
    "        bbox = get1(obj, 'bbox').tolist()\n",
    "        if cls != 'car': continue\n",
    "        # print(cls, bbox, view)\n",
    "        \n",
    " \n",
    "        jobj = {\n",
    "            \"class\": cls,\n",
    "            \"bbox\": bbox,\n",
    "            \"kps\": [],\n",
    "            \"kps_status\": [],\n",
    "        }\n",
    "        for j, kp_name in enumerate(car_kps):\n",
    "            try:\n",
    "                anchors = get(get(obj, \"anchors\"), \"location\")\n",
    "                print(anchors)\n",
    "                pt_loc, pt_status = get(record, \"objects\")['anchors'][0][0][0][0][j]['location'][0][0], record[\"objects\"][0][0]['anchors'][0][0][0][0][j]['status'][0][0]\n",
    "                pt_loc = pt_loc[0] if len(pt_loc) else [0, 0]\n",
    "                pt_status = pt_status[0][0] if len(pt_status) else 1\n",
    "                if pt_loc is not None and pt_status is not None:\n",
    "                    jobj['kps'].append(pt_loc)\n",
    "                    jobj['kps_status'].append(pt_status)\n",
    "            except:\n",
    "                anchors = get(get(obj, \"anchors\"), \"location\")\n",
    "                print(anchors)\n",
    "                raise \"\"\n",
    "        res[\"objects\"].append(jobj)\n",
    "    return res\n",
    "        \n",
    "for record_element in record_set:\n",
    "    ann = convertRecords(f'{annotation_path}{record_element}')\n",
    "    print(ann)\n",
    "    # pprint(filename)\n",
    "    # break\n",
    "    filename = ann['file_name']\n",
    "    im = Image.open(f'{image_path}{filename}')\n",
    "    # 创建一个可以在图像上绘图的对象\n",
    "    draw = ImageDraw.Draw(im)\n",
    "    # 在bbox上绘制矩形\n",
    "    for obj in ann[\"objects\"]:\n",
    "        draw.rectangle(obj[\"bbox\"], outline=\"red\", width=2)\n",
    "        for i, (point, pt_status) in enumerate(zip(obj['kps'], obj['kps_status'])):\n",
    "            draw.ellipse([point[0]-2, point[1]-2, point[0]+2, point[1]+2], fill=\"red\")\n",
    "            text_position = (point[0]+5, point[1]-5)  # 调整文字位置，避免遮挡点\n",
    "            draw.text(text_position, car_kps[i], fill=\"red\")\n",
    "    plt.imshow(im)\n",
    "    "
   ]
  },
  {
   "cell_type": "code",
   "execution_count": 182,
   "id": "726c67bc-7051-4669-902b-150dff47312e",
   "metadata": {},
   "outputs": [
    {
     "data": {
      "text/plain": [
       "array([[(array(['car'], dtype='<U3'), array(['Frontal'], dtype='<U7'), array([[1]], dtype=uint8), array([[1]], dtype=uint8), array([[0]], dtype=uint8), array(['PAScarFrontalTruncOcc'], dtype='<U21'), array(['PAScarFrontalTruncOcc'], dtype='<U21'), array([[ 39, 121, 294, 367]], dtype=uint16), array([[(array([[39]], dtype=uint8), array([[121]], dtype=uint8), array([[294]], dtype=uint16), array([[367]], dtype=uint16))]],\n",
       "              dtype=[('xmin', 'O'), ('ymin', 'O'), ('xmax', 'O'), ('ymax', 'O')]), array([], shape=(0, 0), dtype=uint8), array([], shape=(0, 0), dtype=uint8), array([[0]], dtype=uint8), array([], shape=(0, 0), dtype=uint8), array([], shape=(0, 0), dtype=uint8), array([[0]], dtype=uint8), array([], shape=(0, 0), dtype=uint8), array([[(array([[(array([], shape=(0, 0), dtype=uint8), array([[2]], dtype=uint8))]],\n",
       "                      dtype=[('location', 'O'), ('status', 'O')]), array([[(array([], shape=(0, 0), dtype=uint8), array([[2]], dtype=uint8))]],\n",
       "                      dtype=[('location', 'O'), ('status', 'O')]), array([[(array([], shape=(0, 0), dtype=uint8), array([[2]], dtype=uint8))]],\n",
       "                      dtype=[('location', 'O'), ('status', 'O')]), array([[(array([], shape=(0, 0), dtype=uint8), array([[2]], dtype=uint8))]],\n",
       "                      dtype=[('location', 'O'), ('status', 'O')]), array([[(array([[204.83579336, 134.49446494]]), array([[1]], dtype=uint8))]],\n",
       "                      dtype=[('location', 'O'), ('status', 'O')]), array([[(array([], shape=(0, 0), dtype=uint8), array([[3]], dtype=uint8))]],\n",
       "                      dtype=[('location', 'O'), ('status', 'O')]), array([[(array([], shape=(0, 0), dtype=uint8), array([[3]], dtype=uint8))]],\n",
       "                      dtype=[('location', 'O'), ('status', 'O')]), array([[(array([], shape=(0, 0), dtype=uint8), array([[2]], dtype=uint8))]],\n",
       "                      dtype=[('location', 'O'), ('status', 'O')]), array([[(array([[ 60.92435424, 255.34317343]]), array([[1]], dtype=uint8))]],\n",
       "                      dtype=[('location', 'O'), ('status', 'O')]), array([[(array([], shape=(0, 0), dtype=uint8), array([[3]], dtype=uint8))]],\n",
       "                      dtype=[('location', 'O'), ('status', 'O')]), array([[(array([], shape=(0, 0), dtype=uint8), array([[2]], dtype=uint8))]],\n",
       "                      dtype=[('location', 'O'), ('status', 'O')]), array([[(array([], shape=(0, 0), dtype=uint8), array([[2]], dtype=uint8))]],\n",
       "                      dtype=[('location', 'O'), ('status', 'O')]))                                                                              ]],\n",
       "              dtype=[('left_front_wheel', 'O'), ('left_back_wheel', 'O'), ('right_front_wheel', 'O'), ('right_back_wheel', 'O'), ('upper_left_windshield', 'O'), ('upper_right_windshield', 'O'), ('upper_left_rearwindow', 'O'), ('upper_right_rearwindow', 'O'), ('left_front_light', 'O'), ('right_front_light', 'O'), ('left_back_trunk', 'O'), ('right_back_trunk', 'O')]), array([[(array([[10]], dtype=uint8), array([[2.5]]), array([[16.76775168]]), array([[1.86781627]]), array([[3.27213925]]), array([[1]], dtype=uint8), array([[303.42023991]]), array([[227.09092808]]), array([[-0.23770214]]), array([[8.27862387e-11]]), array([[2.38643836e-12]]), array([[3.3100479e-12]]), array([[2]], dtype=uint8), array([[3000]], dtype=uint16))]],\n",
       "              dtype=[('azimuth_coarse', 'O'), ('elevation_coarse', 'O'), ('azimuth', 'O'), ('elevation', 'O'), ('distance', 'O'), ('focal', 'O'), ('px', 'O'), ('py', 'O'), ('theta', 'O'), ('error', 'O'), ('interval_azimuth', 'O'), ('interval_elevation', 'O'), ('num_anchor', 'O'), ('viewport', 'O')]), array([[5]], dtype=uint8), array(['race'], dtype='<U4'), array([[4]], dtype=uint8), array([[6]], dtype=uint8))                                                                                                                                                                                                                                                                                                                                 ,\n",
       "        (array(['person'], dtype='<U6'), array(['Frontal'], dtype='<U7'), array([[1]], dtype=uint8), array([[1]], dtype=uint8), array([[0]], dtype=uint8), array(['PASpersonFrontalTruncOcc'], dtype='<U24'), array(['PASpersonFrontalTruncOcc'], dtype='<U24'), array([[321,  16, 454, 375]], dtype=uint16), array([[(array([[321]], dtype=uint16), array([[16]], dtype=uint8), array([[454]], dtype=uint16), array([[375]], dtype=uint16))]],\n",
       "              dtype=[('xmin', 'O'), ('ymin', 'O'), ('xmax', 'O'), ('ymax', 'O')]), array([], shape=(0, 0), dtype=uint8), array([], shape=(0, 0), dtype=uint8), array([[0]], dtype=uint8), array([], shape=(0, 0), dtype=uint8), array([], shape=(0, 0), dtype=uint8), array([[0]], dtype=uint8), array([], shape=(0, 0), dtype=uint8), array([], shape=(1, 0), dtype=float64), array([], shape=(1, 0), dtype=float64), array([], shape=(1, 0), dtype=float64), array([], shape=(1, 0), dtype=float64), array([], shape=(1, 0), dtype=float64), array([], shape=(1, 0), dtype=float64)),\n",
       "        (array(['person'], dtype='<U6'), array(['Frontal'], dtype='<U7'), array([[1]], dtype=uint8), array([[1]], dtype=uint8), array([[0]], dtype=uint8), array(['PASpersonFrontalTruncOcc'], dtype='<U24'), array(['PASpersonFrontalTruncOcc'], dtype='<U24'), array([[250,  51, 389, 375]], dtype=uint16), array([[(array([[250]], dtype=uint8), array([[51]], dtype=uint8), array([[389]], dtype=uint16), array([[375]], dtype=uint16))]],\n",
       "              dtype=[('xmin', 'O'), ('ymin', 'O'), ('xmax', 'O'), ('ymax', 'O')]), array([], shape=(0, 0), dtype=uint8), array([], shape=(0, 0), dtype=uint8), array([[0]], dtype=uint8), array([], shape=(0, 0), dtype=uint8), array([], shape=(0, 0), dtype=uint8), array([[0]], dtype=uint8), array([], shape=(0, 0), dtype=uint8), array([], shape=(1, 0), dtype=float64), array([], shape=(1, 0), dtype=float64), array([], shape=(1, 0), dtype=float64), array([], shape=(1, 0), dtype=float64), array([], shape=(1, 0), dtype=float64), array([], shape=(1, 0), dtype=float64)),\n",
       "        (array(['dog'], dtype='<U3'), array(['Frontal'], dtype='<U7'), array([[0]], dtype=uint8), array([[0]], dtype=uint8), array([[0]], dtype=uint8), array(['PASdogFrontal'], dtype='<U13'), array(['PASdogFrontal'], dtype='<U13'), array([[238, 166, 320, 279]], dtype=uint16), array([[(array([[238]], dtype=uint8), array([[166]], dtype=uint8), array([[320]], dtype=uint16), array([[279]], dtype=uint16))]],\n",
       "              dtype=[('xmin', 'O'), ('ymin', 'O'), ('xmax', 'O'), ('ymax', 'O')]), array([], shape=(0, 0), dtype=uint8), array([], shape=(0, 0), dtype=uint8), array([[0]], dtype=uint8), array([], shape=(0, 0), dtype=uint8), array([], shape=(0, 0), dtype=uint8), array([[0]], dtype=uint8), array([], shape=(0, 0), dtype=uint8), array([], shape=(1, 0), dtype=float64), array([], shape=(1, 0), dtype=float64), array([], shape=(1, 0), dtype=float64), array([], shape=(1, 0), dtype=float64), array([], shape=(1, 0), dtype=float64), array([], shape=(1, 0), dtype=float64))]],\n",
       "      dtype=[('class', 'O'), ('view', 'O'), ('truncated', 'O'), ('occluded', 'O'), ('difficult', 'O'), ('label', 'O'), ('orglabel', 'O'), ('bbox', 'O'), ('bndbox', 'O'), ('polygon', 'O'), ('mask', 'O'), ('hasparts', 'O'), ('part', 'O'), ('point', 'O'), ('hasactions', 'O'), ('actions', 'O'), ('anchors', 'O'), ('viewpoint', 'O'), ('cad_index', 'O'), ('subtype', 'O'), ('sub_label', 'O'), ('sub_index', 'O')])"
      ]
     },
     "execution_count": 182,
     "metadata": {},
     "output_type": "execute_result"
    }
   ],
   "source": [
    "record[\"objects\"][0][0]"
   ]
  },
  {
   "cell_type": "code",
   "execution_count": 89,
   "id": "401e6ff9-9bb1-4802-a6f4-4f8432414536",
   "metadata": {},
   "outputs": [
    {
     "name": "stdout",
     "output_type": "stream",
     "text": [
      "[[array(['car'], dtype='<U3') array(['person'], dtype='<U6')\n",
      "  array(['person'], dtype='<U6') array(['dog'], dtype='<U3')]]\n",
      "[[array(['Frontal'], dtype='<U7') array(['Frontal'], dtype='<U7')\n",
      "  array(['Frontal'], dtype='<U7') array(['Frontal'], dtype='<U7')]]\n",
      "[[array([[ 39, 121, 294, 367]], dtype=uint16)\n",
      "  array([[321,  16, 454, 375]], dtype=uint16)\n",
      "  array([[250,  51, 389, 375]], dtype=uint16)\n",
      "  array([[238, 166, 320, 279]], dtype=uint16)]]\n",
      "--------\n",
      "left_front_wheel None 2\n",
      "left_back_wheel None 2\n",
      "right_front_wheel None 2\n",
      "right_back_wheel None 2\n",
      "upper_left_windshield [204.83579336 134.49446494] 1\n",
      "upper_right_windshield None 3\n",
      "upper_left_rearwindow None 3\n",
      "upper_right_rearwindow None 2\n",
      "left_front_light [ 60.92435424 255.34317343] 1\n",
      "right_front_light None 3\n",
      "left_back_trunk None 2\n",
      "right_back_trunk None 2\n"
     ]
    }
   ],
   "source": [
    "# dtype=[('class', 'O'), ('view', 'O'), ('truncated', 'O'), ('occluded', 'O'), ('difficult', 'O'), ('label', 'O'), \n",
    "# ('orglabel', 'O'), ('bbox', 'O'), ('bndbox', 'O'), ('polygon', 'O'), ('mask', 'O'), ('hasparts', 'O'), ('part', 'O'), \n",
    "# ('point', 'O'), ('hasactions', 'O'), ('actions', 'O'), ('anchors', 'O'), ('viewpoint', 'O'), ('cad_index', 'O'), ('subtype', 'O'), ('sub_label', 'O'), ('sub_index', 'O')])  "
   ]
  },
  {
   "cell_type": "code",
   "execution_count": 94,
   "id": "8ac7dec6-1c08-4ce4-a123-b040fb9ad4eb",
   "metadata": {},
   "outputs": [
    {
     "data": {
      "text/plain": [
       "array([[(array([[10]], dtype=uint8), array([[2.5]]), array([[16.76775168]]), array([[1.86781627]]), array([[3.27213925]]), array([[1]], dtype=uint8), array([[303.42023991]]), array([[227.09092808]]), array([[-0.23770214]]), array([[8.27862387e-11]]), array([[2.38643836e-12]]), array([[3.3100479e-12]]), array([[2]], dtype=uint8), array([[3000]], dtype=uint16))]],\n",
       "      dtype=[('azimuth_coarse', 'O'), ('elevation_coarse', 'O'), ('azimuth', 'O'), ('elevation', 'O'), ('distance', 'O'), ('focal', 'O'), ('px', 'O'), ('py', 'O'), ('theta', 'O'), ('error', 'O'), ('interval_azimuth', 'O'), ('interval_elevation', 'O'), ('num_anchor', 'O'), ('viewport', 'O')])"
      ]
     },
     "execution_count": 94,
     "metadata": {},
     "output_type": "execute_result"
    }
   ],
   "source": [
    "record[\"objects\"][0][0]['viewpoint'][0][0]"
   ]
  },
  {
   "cell_type": "code",
   "execution_count": 90,
   "id": "a4a6528f-dfe9-471b-aa47-6e49b00e9bd6",
   "metadata": {},
   "outputs": [
    {
     "data": {
      "text/plain": [
       "array([[array([[(array(['car'], dtype='<U3'), array(['Frontal'], dtype='<U7'), array([[1]], dtype=uint8), array([[1]], dtype=uint8), array([[0]], dtype=uint8), array(['PAScarFrontalTruncOcc'], dtype='<U21'), array(['PAScarFrontalTruncOcc'], dtype='<U21'), array([[ 39, 121, 294, 367]], dtype=uint16), array([[(array([[39]], dtype=uint8), array([[121]], dtype=uint8), array([[294]], dtype=uint16), array([[367]], dtype=uint16))]],\n",
       "                      dtype=[('xmin', 'O'), ('ymin', 'O'), ('xmax', 'O'), ('ymax', 'O')]), array([], shape=(0, 0), dtype=uint8), array([], shape=(0, 0), dtype=uint8), array([[0]], dtype=uint8), array([], shape=(0, 0), dtype=uint8), array([], shape=(0, 0), dtype=uint8), array([[0]], dtype=uint8), array([], shape=(0, 0), dtype=uint8), array([[(array([[(array([], shape=(0, 0), dtype=uint8), array([[2]], dtype=uint8))]],\n",
       "                              dtype=[('location', 'O'), ('status', 'O')]), array([[(array([], shape=(0, 0), dtype=uint8), array([[2]], dtype=uint8))]],\n",
       "                              dtype=[('location', 'O'), ('status', 'O')]), array([[(array([], shape=(0, 0), dtype=uint8), array([[2]], dtype=uint8))]],\n",
       "                              dtype=[('location', 'O'), ('status', 'O')]), array([[(array([], shape=(0, 0), dtype=uint8), array([[2]], dtype=uint8))]],\n",
       "                              dtype=[('location', 'O'), ('status', 'O')]), array([[(array([[204.83579336, 134.49446494]]), array([[1]], dtype=uint8))]],\n",
       "                              dtype=[('location', 'O'), ('status', 'O')]), array([[(array([], shape=(0, 0), dtype=uint8), array([[3]], dtype=uint8))]],\n",
       "                              dtype=[('location', 'O'), ('status', 'O')]), array([[(array([], shape=(0, 0), dtype=uint8), array([[3]], dtype=uint8))]],\n",
       "                              dtype=[('location', 'O'), ('status', 'O')]), array([[(array([], shape=(0, 0), dtype=uint8), array([[2]], dtype=uint8))]],\n",
       "                              dtype=[('location', 'O'), ('status', 'O')]), array([[(array([[ 60.92435424, 255.34317343]]), array([[1]], dtype=uint8))]],\n",
       "                              dtype=[('location', 'O'), ('status', 'O')]), array([[(array([], shape=(0, 0), dtype=uint8), array([[3]], dtype=uint8))]],\n",
       "                              dtype=[('location', 'O'), ('status', 'O')]), array([[(array([], shape=(0, 0), dtype=uint8), array([[2]], dtype=uint8))]],\n",
       "                              dtype=[('location', 'O'), ('status', 'O')]), array([[(array([], shape=(0, 0), dtype=uint8), array([[2]], dtype=uint8))]],\n",
       "                              dtype=[('location', 'O'), ('status', 'O')]))                                                                              ]],\n",
       "                      dtype=[('left_front_wheel', 'O'), ('left_back_wheel', 'O'), ('right_front_wheel', 'O'), ('right_back_wheel', 'O'), ('upper_left_windshield', 'O'), ('upper_right_windshield', 'O'), ('upper_left_rearwindow', 'O'), ('upper_right_rearwindow', 'O'), ('left_front_light', 'O'), ('right_front_light', 'O'), ('left_back_trunk', 'O'), ('right_back_trunk', 'O')]), array([[(array([[10]], dtype=uint8), array([[2.5]]), array([[16.76775168]]), array([[1.86781627]]), array([[3.27213925]]), array([[1]], dtype=uint8), array([[303.42023991]]), array([[227.09092808]]), array([[-0.23770214]]), array([[8.27862387e-11]]), array([[2.38643836e-12]]), array([[3.3100479e-12]]), array([[2]], dtype=uint8), array([[3000]], dtype=uint16))]],\n",
       "                      dtype=[('azimuth_coarse', 'O'), ('elevation_coarse', 'O'), ('azimuth', 'O'), ('elevation', 'O'), ('distance', 'O'), ('focal', 'O'), ('px', 'O'), ('py', 'O'), ('theta', 'O'), ('error', 'O'), ('interval_azimuth', 'O'), ('interval_elevation', 'O'), ('num_anchor', 'O'), ('viewport', 'O')]), array([[5]], dtype=uint8), array(['race'], dtype='<U4'), array([[4]], dtype=uint8), array([[6]], dtype=uint8))                                                                                                                                                                                                                                                                                                                                 ,\n",
       "                (array(['person'], dtype='<U6'), array(['Frontal'], dtype='<U7'), array([[1]], dtype=uint8), array([[1]], dtype=uint8), array([[0]], dtype=uint8), array(['PASpersonFrontalTruncOcc'], dtype='<U24'), array(['PASpersonFrontalTruncOcc'], dtype='<U24'), array([[321,  16, 454, 375]], dtype=uint16), array([[(array([[321]], dtype=uint16), array([[16]], dtype=uint8), array([[454]], dtype=uint16), array([[375]], dtype=uint16))]],\n",
       "                      dtype=[('xmin', 'O'), ('ymin', 'O'), ('xmax', 'O'), ('ymax', 'O')]), array([], shape=(0, 0), dtype=uint8), array([], shape=(0, 0), dtype=uint8), array([[0]], dtype=uint8), array([], shape=(0, 0), dtype=uint8), array([], shape=(0, 0), dtype=uint8), array([[0]], dtype=uint8), array([], shape=(0, 0), dtype=uint8), array([], shape=(1, 0), dtype=float64), array([], shape=(1, 0), dtype=float64), array([], shape=(1, 0), dtype=float64), array([], shape=(1, 0), dtype=float64), array([], shape=(1, 0), dtype=float64), array([], shape=(1, 0), dtype=float64)),\n",
       "                (array(['person'], dtype='<U6'), array(['Frontal'], dtype='<U7'), array([[1]], dtype=uint8), array([[1]], dtype=uint8), array([[0]], dtype=uint8), array(['PASpersonFrontalTruncOcc'], dtype='<U24'), array(['PASpersonFrontalTruncOcc'], dtype='<U24'), array([[250,  51, 389, 375]], dtype=uint16), array([[(array([[250]], dtype=uint8), array([[51]], dtype=uint8), array([[389]], dtype=uint16), array([[375]], dtype=uint16))]],\n",
       "                      dtype=[('xmin', 'O'), ('ymin', 'O'), ('xmax', 'O'), ('ymax', 'O')]), array([], shape=(0, 0), dtype=uint8), array([], shape=(0, 0), dtype=uint8), array([[0]], dtype=uint8), array([], shape=(0, 0), dtype=uint8), array([], shape=(0, 0), dtype=uint8), array([[0]], dtype=uint8), array([], shape=(0, 0), dtype=uint8), array([], shape=(1, 0), dtype=float64), array([], shape=(1, 0), dtype=float64), array([], shape=(1, 0), dtype=float64), array([], shape=(1, 0), dtype=float64), array([], shape=(1, 0), dtype=float64), array([], shape=(1, 0), dtype=float64)),\n",
       "                (array(['dog'], dtype='<U3'), array(['Frontal'], dtype='<U7'), array([[0]], dtype=uint8), array([[0]], dtype=uint8), array([[0]], dtype=uint8), array(['PASdogFrontal'], dtype='<U13'), array(['PASdogFrontal'], dtype='<U13'), array([[238, 166, 320, 279]], dtype=uint16), array([[(array([[238]], dtype=uint8), array([[166]], dtype=uint8), array([[320]], dtype=uint16), array([[279]], dtype=uint16))]],\n",
       "                      dtype=[('xmin', 'O'), ('ymin', 'O'), ('xmax', 'O'), ('ymax', 'O')]), array([], shape=(0, 0), dtype=uint8), array([], shape=(0, 0), dtype=uint8), array([[0]], dtype=uint8), array([], shape=(0, 0), dtype=uint8), array([], shape=(0, 0), dtype=uint8), array([[0]], dtype=uint8), array([], shape=(0, 0), dtype=uint8), array([], shape=(1, 0), dtype=float64), array([], shape=(1, 0), dtype=float64), array([], shape=(1, 0), dtype=float64), array([], shape=(1, 0), dtype=float64), array([], shape=(1, 0), dtype=float64), array([], shape=(1, 0), dtype=float64))]],\n",
       "              dtype=[('class', 'O'), ('view', 'O'), ('truncated', 'O'), ('occluded', 'O'), ('difficult', 'O'), ('label', 'O'), ('orglabel', 'O'), ('bbox', 'O'), ('bndbox', 'O'), ('polygon', 'O'), ('mask', 'O'), ('hasparts', 'O'), ('part', 'O'), ('point', 'O'), ('hasactions', 'O'), ('actions', 'O'), ('anchors', 'O'), ('viewpoint', 'O'), ('cad_index', 'O'), ('subtype', 'O'), ('sub_label', 'O'), ('sub_index', 'O')])                                                                                                                                                                                                                                                                                                                                      ]],\n",
       "      dtype=object)"
      ]
     },
     "execution_count": 90,
     "metadata": {},
     "output_type": "execute_result"
    }
   ],
   "source": [
    "record[\"objects\"]"
   ]
  },
  {
   "cell_type": "code",
   "execution_count": null,
   "id": "dc7c38f3-c036-45b3-aa0c-451b7174a588",
   "metadata": {},
   "outputs": [],
   "source": []
  }
 ],
 "metadata": {
  "kernelspec": {
   "display_name": "Python 3 (ipykernel)",
   "language": "python",
   "name": "python3"
  },
  "language_info": {
   "codemirror_mode": {
    "name": "ipython",
    "version": 3
   },
   "file_extension": ".py",
   "mimetype": "text/x-python",
   "name": "python",
   "nbconvert_exporter": "python",
   "pygments_lexer": "ipython3",
   "version": "3.8.18"
  }
 },
 "nbformat": 4,
 "nbformat_minor": 5
}
